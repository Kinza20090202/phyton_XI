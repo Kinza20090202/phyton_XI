{
 "cells": [
  {
   "cell_type": "code",
   "execution_count": null,
   "id": "62d2db01",
   "metadata": {},
   "outputs": [],
   "source": [
    "x_int = 10\n",
    "x_float = 3.14\n",
    "x_str = \"Belajar Python\"\n",
    "x_list = [1, 2, 3]\n",
    "\n",
    "print(type(x_int))\n",
    "print(type(x_float))\n",
    "print(type(x_str))\n",
    "print(type(x_list))\n",
    "\n"
   ]
  },
  {
   "cell_type": "code",
   "execution_count": null,
   "id": "7ab84f55",
   "metadata": {},
   "outputs": [],
   "source": [
    "belanja = [\"beras\", \"minyak\", \"telur\"]\n",
    "belanja.append(\"gula\")\n",
    "belanja.append(\"kopi\")\n",
    "\n",
    "for item in belanja:\n",
    "    print(item)\n",
    "\n"
   ]
  },
  {
   "cell_type": "code",
   "execution_count": null,
   "id": "9c5ba2d1",
   "metadata": {},
   "outputs": [],
   "source": [
    "harga_belanja = {\n",
    "    \"beras\": 12000,\n",
    "    \"minyak\": 17000,\n",
    "    \"telur\": 24000,\n",
    "    \"gula\": 15000,\n",
    "    \"kopi\": 20000\n",
    "}\n",
    "\n",
    "total = 0\n",
    "for barang, harga in harga_belanja.items():\n",
    "    print(f\"{barang}: {harga}\")\n",
    "    total += harga\n",
    "print(\"Total belanja =\", total)\n"
   ]
  },
  {
   "cell_type": "code",
   "execution_count": null,
   "id": "653c077c",
   "metadata": {},
   "outputs": [],
   "source": [
    "def persegi_panjang(panjang, lebar):\n",
    "    luas = panjang * lebar\n",
    "    keliling = 2 * (panjang + lebar)\n",
    "    return luas, keliling\n",
    "\n",
    "luas, keliling = persegi_panjang(10, 5)\n",
    "print(\"Luas =\", luas)\n"
   ]
  },
  {
   "cell_type": "code",
   "execution_count": null,
   "id": "d32aee8d",
   "metadata": {},
   "outputs": [],
   "source": [
    "usia = int(input(\"Masukkan usia: \"))\n",
    "if 0 <= usia <= 13:\n",
    "    print(\"Anak\")\n",
    "elif 14 <= usia <= 24:\n",
    "    print(\"Remaja\")\n",
    "elif 25 <= usia <= 49:\n",
    "    print(\"Dewasa\")\n",
    "elif usia >= 50:\n",
    "    print(\"Lansia\")\n",
    "else:\n",
    "    print(\"Usia tidak valid\")"
   ]
  }
 ],
 "metadata": {
  "kernelspec": {
   "display_name": "Python 3",
   "language": "python",
   "name": "python3"
  },
  "language_info": {
   "name": "python",
   "version": "3.13.7"
  }
 },
 "nbformat": 4,
 "nbformat_minor": 5
}
